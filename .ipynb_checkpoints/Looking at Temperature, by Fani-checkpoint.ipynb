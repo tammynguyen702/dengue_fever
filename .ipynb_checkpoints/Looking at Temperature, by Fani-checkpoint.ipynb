{
 "cells": [
  {
   "cell_type": "markdown",
   "metadata": {},
   "source": [
    "## Dengue Fever - Term Project"
   ]
  },
  {
   "cell_type": "markdown",
   "metadata": {},
   "source": [
    "Challenge question: Using environmental data collected by various U.S. Federal Government agencies, can you predict the number of dengue fever cases reported each week in San Juan, Puerto Rico and Iquitos, Peru?\n",
    "\n",
    "<a href=\"https://www.drivendata.org/competitions/44/dengai-predicting-disease-spread/page/80/\">Link to the original competition details and dataset</a>"
   ]
  },
  {
   "cell_type": "markdown",
   "metadata": {},
   "source": [
    "### Background "
   ]
  },
  {
   "cell_type": "markdown",
   "metadata": {},
   "source": [
    "Dengue (\"DEN-gay\") is a disease spread to humans by mosquito bites. It can cause severe flu-like symptoms and in severe cases can be fatal. There is no vaccine or medication that protects against dengue fever. Symptoms typically begin 3 to 14 days after infection.\n",
    "\n",
    "The risk is higher during the daytime, particularly around sunrise and sunset. Mosquitoes that can transmit dengue bite even in shady areas, when it is overcast, or if you are indoors.\n",
    "\n",
    "Dengue fever is found throughout the world, but mainly occurs in tropical and subtropical areas and in urban/semi-urban areas. It is widespread in regions of Africa, Central and South America, the Caribbean, the Eastern Mediterranean, South and Southeast Asia, and Oceania. Asia represents 70% of the global burden of disease. \n",
    "\n",
    "Local variations in risk influenced by rainfall, temperature, relative humidity and unplanned rapid urbanization.\n",
    "\n",
    "The number of dengue cases reported to WHO increased over 15 fold over the last two decades, though the increase can be partly explained by a change in national practices to record and report dengue to the Ministries of Health, and to the WHO. This increase is also believed to be due to a combination of urbanization, population growth, increased international travel, and global warming.\n",
    "\n",
    "The time it takes from ingesting the virus to actual transmission to a new host is termed the extrinsic incubation period (EIP). <b>The EIP takes about 8-12 days when the ambient temperature is between 25-28°C</b>. Variations in the extrinsic incubation period are not only influenced by ambient temperature; a number of factors such as the magnitude of daily temperature fluctuations, virus genotype, and initial viral concentration can also alter the time it takes for a mosquito to transmit virus. Once infectious, the mosquito is capable of transmitting virus for the rest of its life.\n",
    "\n",
    "The Aedes aegypti mosquito is a day-time feeder; its peak biting periods are early in the morning and in the evening before sunset and feed multiple times between each egg-laying period. These mosquitos usually live between the latitudes of 35° North and 35° South below an elevation of 1,000 metres (3,300 ft). Dengue mosquitoes reproduce more quickly and bite more frequently at higher temperatures\n",
    "\n",
    "The main method to control transmission is to combat mosquito vectors through:\n",
    "<ul>\n",
    "    <li>Prevention of mosquito breeding</li>\n",
    "    <li>Personal protection from mosquito bites</li>\n",
    "    <li>Community engagement</li>\n",
    "    <li>Reactive vector control</li>\n",
    "    <li>Active mosquito and virus surveillance</li>\n",
    "</ul>\n",
    "\n",
    "From <a href=\"https://travel.gc.ca/travelling/health-safety/diseases/dengue\">travel.gc.ca</a>, <a href=\"https://www.who.int/en/news-room/fact-sheets/detail/dengue-and-severe-dengue\">WHO</a>, <a href=\"https://en.wikipedia.org/wiki/Dengue_fever\">Wikipedia</a>, and <a href=\"https://www.who.int/heli/risks/vectors/denguecontrol/en/\">WHO HELI</a>"
   ]
  },
  {
   "cell_type": "code",
   "execution_count": null,
   "metadata": {},
   "outputs": [],
   "source": [
    "import pandas as pd\n",
    "import numpy as np\n",
    "import matplotlib.pyplot as plt\n",
    "import seaborn as sns\n",
    "%matplotlib inline # So graphs show up next to the code"
   ]
  }
 ],
 "metadata": {
  "kernelspec": {
   "display_name": "Python 3",
   "language": "python",
   "name": "python3"
  },
  "language_info": {
   "codemirror_mode": {
    "name": "ipython",
    "version": 3
   },
   "file_extension": ".py",
   "mimetype": "text/x-python",
   "name": "python",
   "nbconvert_exporter": "python",
   "pygments_lexer": "ipython3",
   "version": "3.7.4"
  }
 },
 "nbformat": 4,
 "nbformat_minor": 2
}
