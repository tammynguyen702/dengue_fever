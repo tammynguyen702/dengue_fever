{
 "cells": [
  {
   "cell_type": "code",
   "execution_count": 44,
   "metadata": {},
   "outputs": [
    {
     "data": {
      "text/plain": [
       "Sex\n",
       "female    0.742038\n",
       "male      0.188908\n",
       "dtype: float64"
      ]
     },
     "execution_count": 44,
     "metadata": {},
     "output_type": "execute_result"
    }
   ],
   "source": [
    "# What proportion of female/male survived? Another method\n",
    "by_sex = data.groupby('Sex')['Survived'].sum() / data.groupby('Sex')['Name'].count()\n",
    "by_sex"
   ]
  },
  {
   "cell_type": "markdown",
   "metadata": {},
   "source": [
    "<div style=\"font-size:20px\"><b>Question 4: </b><em>What was the percentage of male passengers who survived?</em></div><div style=\"font-size:14px\">(out of all male passengers who traveled on Titanic). As above, enter the answer as a number without the percent sign. For example, if you calculate that 56% out of all male passengers survived, enter 56. You can enter the number as a floating-point number with two decimals. </div>"
   ]
  },
  {
   "cell_type": "code",
   "execution_count": 45,
   "metadata": {},
   "outputs": [
    {
     "data": {
      "text/plain": [
       "Sex\n",
       "female    0.742038\n",
       "male      0.188908\n",
       "dtype: float64"
      ]
     },
     "execution_count": 45,
     "metadata": {},
     "output_type": "execute_result"
    }
   ],
   "source": [
    "# What male passengers survived?\n",
    "by_sex = data.groupby('Sex')['Survived'].sum() / data.groupby('Sex')['Name'].count()\n",
    "by_sex"
   ]
  },
  {
   "cell_type": "code",
   "execution_count": 46,
   "metadata": {},
   "outputs": [
    {
     "name": "stdout",
     "output_type": "stream",
     "text": [
      "0.188908\n"
     ]
    }
   ],
   "source": [
    "by_sex = by_sex.map('{:2f}'.format)\n",
    "print(by_sex['male'])"
   ]
  },
  {
   "cell_type": "markdown",
   "metadata": {},
   "source": [
    "<div style=\"font-size:20px\"><b>Question 5: </b><em>How many passengers traveling 1st class survived?</em></div><div style=\"font-size:14px\"> (looking for a number, not a percentage)</div>"
   ]
  },
  {
   "cell_type": "code",
   "execution_count": 47,
   "metadata": {
    "scrolled": true
   },
   "outputs": [
    {
     "data": {
      "text/plain": [
       "Pclass\n",
       "1    136\n",
       "Name: Survived, dtype: int64"
      ]
     },
     "execution_count": 47,
     "metadata": {},
     "output_type": "execute_result"
    }
   ],
   "source": [
    "class_survival = data.groupby('Pclass')['Survived'].sum()\n",
    "class_survival.iloc[:1]"
   ]
  },
  {
   "cell_type": "markdown",
   "metadata": {},
   "source": [
    "<div style=\"font-size:20px\"><b>Question 6: </b><em>How many passengers traveling 2nd class survived? </em></div><div style=\"font-size:14px\"> (a number, not a percentage)</div>"
   ]
  },
  {
   "cell_type": "code",
   "execution_count": 48,
   "metadata": {},
   "outputs": [
    {
     "data": {
      "text/plain": [
       "Pclass\n",
       "2    87\n",
       "Name: Survived, dtype: int64"
      ]
     },
     "execution_count": 48,
     "metadata": {},
     "output_type": "execute_result"
    }
   ],
   "source": [
    "class_survival = data.groupby('Pclass')['Survived'].sum()\n",
    "class_survival.iloc[1:2]"
   ]
  },
  {
   "cell_type": "markdown",
   "metadata": {},
   "source": [
    "<div style=\"font-size:20px\"><b>Question 7: </b><em>How many passengers traveling 3rd class survived?</em> </div><div style=\"font-size:14px\"> (a number)</div>"
   ]
  },
  {
   "cell_type": "code",
   "execution_count": 49,
   "metadata": {},
   "outputs": [
    {
     "data": {
      "text/plain": [
       "Pclass\n",
       "3    119\n",
       "Name: Survived, dtype: int64"
      ]
     },
     "execution_count": 49,
     "metadata": {},
     "output_type": "execute_result"
    }
   ],
   "source": [
    "class_survival = data.groupby('Pclass')['Survived'].sum()\n",
    "class_survival.iloc[2:3]"
   ]
  },
  {
   "cell_type": "markdown",
   "metadata": {},
   "source": [
    "<div style=\"font-size:20px\"><b>Question 8: </b><em>What categories of passengers were most likely to survive the Titanic disaster?</em> </div>"
   ]
  },
  {
   "cell_type": "markdown",
   "metadata": {},
   "source": [
    "From common knowledge and watching Leonardo DiCaprio on screen, we know that women and children were the first ones to get on a lifeboat and therefore were most likely to survive. The categories then are <b>gender and age</b> and the proportion of people who survived reflects this.\n",
    "\n",
    "Thse in upper class (<b>pclass</b>=1) were more likely to survive than those in the middle and lower socio-economic classes.\n",
    "\n",
    "According to the Kaggle discussion, cabin letters correspond to the level in the ship where first class stayed in levels A to E, second class in D to F, and third class in E to G. Funny enough, my quick calculations found that those in A and G were the least likely to survive. \n",
    "\n",
    "Those <b>embarking</b> from Cherboug (Embarked = C) were most likely to survive, interestingly enough. This might be because more high-status or women/children boarded in Cherboug. \n",
    "\n",
    "The regression on Fare and likelihood to survive was inconclusive. "
   ]
  },
  {
   "cell_type": "markdown",
   "metadata": {},
   "source": [
    "<div style=\"font-size:20px\"><b>Question 9a: </b><em>What attributes did you use for the analysis?</em></div> <div style=\"font-size:14px\">Explain how you used them and why you decided to use them.</div>"
   ]
  },
  {
   "cell_type": "markdown",
   "metadata": {},
   "source": [
    "I examined <code>Pclass</code>, <code>Sex</code>, <code>Age</code>, <code>Fare</code>, <code>Cabin</code>, and location <code>Embarked</code> because those were the attributes given and the type of data I can work with (using my current level of skill). "
   ]
  },
  {
   "cell_type": "markdown",
   "metadata": {},
   "source": [
    "<div style=\"font-size:20px\"><b>Question 9b: </b><em>Did you engineer any attributes (create new attributes)? </em></div><div style=\"font-size:14px\">If yes, explain the rationale and how the new attributes were used in the analysis. Provide a complete list of all attributes used.\n",
    "If you have excluded any attributes from the analysis, provide an explanation of why you believe they can be excluded.</div>"
   ]
  },
  {
   "cell_type": "markdown",
   "metadata": {},
   "source": [
    "I didn't engineer any <em>new</em> attributes, just cleaned/manipulated the existing ones. For example, anyone under 1 year old is given a fractional age so I grouped it all in age = 1. For cabin, I just took the first letter occuring in the column. \n",
    "\n",
    "I didn't use <code>Name</code>, <code>Passenger ID</code>, <code>SibSp</code>, and <code>Parch</code>. Passenger ID doesn't really tell me much unless I learn the system of how the Passenger ID was issued and find a correlation between the ID and the ticket-holder. I didn't use Sibsp and Parch due to its complexity. I don't know how to relate that to the data or run a regression with this information, and it seems out of scope in the context of this introductory course assignment. I didn't use Ticket because like Passenger ID, there doesn't seem to be a sensible pattern. "
   ]
  },
  {
   "cell_type": "markdown",
   "metadata": {},
   "source": [
    "<div style=\"font-size:20px\"><b>Question 10: </b><em>How did you treat missing values for those attributes that you included in the analysis (for example, the age attribute)? </em></div><div style=\"font-size: 14px\">Provide a detailed explanation.</div>"
   ]
  },
  {
   "cell_type": "markdown",
   "metadata": {},
   "source": [
    "I dropped/ignored the rows with the missing values. I choose to ignore it because I am assuming my sample data is close enough to the sample of respondents and nonrespondents with corresponding proportions. I didn't want to fill in missing values with a mean/median/mode because it could distort the data or challenging to find the mean for, especially if the items are categorical like pclass, embarked and sex. "
   ]
  }
 ],
 "metadata": {
  "kernelspec": {
   "display_name": "Python 3",
   "language": "python",
   "name": "python3"
  },
  "language_info": {
   "codemirror_mode": {
    "name": "ipython",
    "version": 3
   },
   "file_extension": ".py",
   "mimetype": "text/x-python",
   "name": "python",
   "nbconvert_exporter": "python",
   "pygments_lexer": "ipython3",
   "version": "3.7.4"
  },
  "toc": {
   "base_numbering": 1,
   "nav_menu": {},
   "number_sections": false,
   "sideBar": true,
   "skip_h1_title": false,
   "title_cell": "Table of Contents",
   "title_sidebar": "Contents",
   "toc_cell": false,
   "toc_position": {},
   "toc_section_display": true,
   "toc_window_display": false
  }
 },
 "nbformat": 4,
 "nbformat_minor": 2
}
